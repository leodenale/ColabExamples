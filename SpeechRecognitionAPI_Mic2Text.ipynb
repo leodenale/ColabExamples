{
  "nbformat": 4,
  "nbformat_minor": 0,
  "metadata": {
    "colab": {
      "name": "SpeechRecognitionAPI-Mic2Text.ipynb",
      "version": "0.3.2",
      "provenance": [],
      "include_colab_link": true
    },
    "kernelspec": {
      "name": "python3",
      "display_name": "Python 3"
    }
  },
  "cells": [
    {
      "cell_type": "markdown",
      "metadata": {
        "id": "view-in-github",
        "colab_type": "text"
      },
      "source": [
        "<a href=\"https://colab.research.google.com/github/leodenale/ColabExamples/blob/master/SpeechRecognitionAPI_Mic2Text.ipynb\" target=\"_parent\"><img src=\"https://colab.research.google.com/assets/colab-badge.svg\" alt=\"Open In Colab\"/></a>"
      ]
    },
    {
      "cell_type": "markdown",
      "metadata": {
        "id": "B4kfv_GxqRt1",
        "colab_type": "text"
      },
      "source": [
        "# Speech Recognition in Python using Google Speech API\n",
        "\n",
        "[Original article from Geeksforgeeks.org](https://www.geeksforgeeks.org/speech-recognition-in-python-using-google-speech-api/)\n",
        "\n",
        "Speech Recognition is an important feature in several applications used such as home automation, artificial intelligence, etc. This article aims to provide an introduction on how to make use of the SpeechRecognition library of Python. This is useful as it can be used on microcontrollers such as Raspberri Pis with the help of an external microphone.\n",
        "\n",
        "## Required Installations\n",
        "\n",
        "The following must be installed:\n",
        "\n",
        "1) **Python Speech Recognition module**:\n",
        " ```\n",
        " sudo pip install SpeechRecognition \n",
        "```\n",
        "\n",
        "2) **PyAudio**: Use the following command for linux users\n",
        "```\n",
        "sudo apt-get install python-pyaudio python3-pyaudio\n",
        "```\n",
        "\n",
        "If the versions in the repositories are too old, install pyaudio using the following command\n",
        "```\n",
        "sudo apt-get install portaudio19-dev python-all-dev python3-all-dev && \n",
        "sudo pip install pyaudio\n",
        "```\n",
        "Use pip3 instead of pip for python3.\n",
        "Windows users can install pyaudio by executing the following command in a terminal\n",
        "```\n",
        "pip install pyaudio\n",
        "```\n",
        "\n",
        "## Speech Input Using a Microphone and Translation of Speech to Text\n",
        "\n",
        "1) **Configure Microphone (For external microphones)**: It is advisable to specify the microphone during the program to avoid any glitches.\n",
        "Type **lsusb** in the terminal. A list of connected devices will show up. The microphone name would look like this\n",
        "```\n",
        "USB Device 0x46d:0x825: Audio (hw:1, 0)\n",
        "```\n",
        "Make a note of this as it will be used in the program.\n",
        "\n",
        "2) **Set Chunk Size**: This basically involved specifying how many bytes of data we want to read at once. Typically, this value is specified in powers of 2 such as 1024 or 2048\n",
        "\n",
        "3) **Set Sampling Rate**: Sampling rate defines how often values are recorded for processing\n",
        "\n",
        "4) **Set Device ID to the selected microphone**: In this step, we specify the device ID of the microphone that we wish to use in order to avoid ambiguity in case there are multiple microphones. This also helps debug, in the sense that, while running the program, we will know whether the specified microphone is being recognized. During the program, we specify a parameter device_id. The program will say that device_id could not be found if the microphone is not recognized.\n",
        "\n",
        "5) **Allow Adjusting for Ambient Noise**: Since the surrounding noise varies, we must allow the program a second or too to adjust the energy threshold of recording so it is adjusted according to the external noise level.\n",
        "\n",
        "6) **Speech to text translation**: This is done with the help of Google Speech Recognition. This requires an active internet connection to work. However, there are certain offline Recognition systems such as PocketSphinx, but have a very rigorous installation process that requires several dependencies. Google Speech Recognition is one of the easiest to use.\n",
        "\n",
        "The Above steps have been implemented below:"
      ]
    },
    {
      "cell_type": "code",
      "metadata": {
        "id": "z1cl5xVrsjZT",
        "colab_type": "code",
        "colab": {
          "base_uri": "https://localhost:8080/",
          "height": 102
        },
        "outputId": "1055f435-6b7d-41c3-8c76-82a5645c0c89"
      },
      "source": [
        "!pip3 install SpeechRecognition"
      ],
      "execution_count": 2,
      "outputs": [
        {
          "output_type": "stream",
          "text": [
            "Collecting SpeechRecognition\n",
            "\u001b[?25l  Downloading https://files.pythonhosted.org/packages/26/e1/7f5678cd94ec1234269d23756dbdaa4c8cfaed973412f88ae8adf7893a50/SpeechRecognition-3.8.1-py2.py3-none-any.whl (32.8MB)\n",
            "\u001b[K     |████████████████████████████████| 32.8MB 1.5MB/s \n",
            "\u001b[?25hInstalling collected packages: SpeechRecognition\n",
            "Successfully installed SpeechRecognition-3.8.1\n"
          ],
          "name": "stdout"
        }
      ]
    },
    {
      "cell_type": "code",
      "metadata": {
        "id": "9VObMPU5smre",
        "colab_type": "code",
        "colab": {
          "base_uri": "https://localhost:8080/",
          "height": 578
        },
        "outputId": "b45a2bd0-665f-44ee-e9fe-27b9ad78c2e7"
      },
      "source": [
        "!apt install python-pyaudio python3-pyaudio"
      ],
      "execution_count": 10,
      "outputs": [
        {
          "output_type": "stream",
          "text": [
            "Reading package lists... Done\n",
            "Building dependency tree       \n",
            "Reading state information... Done\n",
            "The following package was automatically installed and is no longer required:\n",
            "  libnvidia-common-410\n",
            "Use 'apt autoremove' to remove it.\n",
            "The following additional packages will be installed:\n",
            "  libportaudio2\n",
            "Suggested packages:\n",
            "  python-pyaudio-doc\n",
            "The following NEW packages will be installed:\n",
            "  libportaudio2 python-pyaudio python3-pyaudio\n",
            "0 upgraded, 3 newly installed, 0 to remove and 16 not upgraded.\n",
            "Need to get 113 kB of archives.\n",
            "After this operation, 432 kB of additional disk space will be used.\n",
            "Get:1 http://archive.ubuntu.com/ubuntu bionic/universe amd64 libportaudio2 amd64 19.6.0-1 [64.6 kB]\n",
            "Get:2 http://archive.ubuntu.com/ubuntu bionic/universe amd64 python-pyaudio amd64 0.2.11-1build2 [24.1 kB]\n",
            "Get:3 http://archive.ubuntu.com/ubuntu bionic/universe amd64 python3-pyaudio amd64 0.2.11-1build2 [24.2 kB]\n",
            "Fetched 113 kB in 1s (138 kB/s)\n",
            "Selecting previously unselected package libportaudio2:amd64.\n",
            "(Reading database ... 130942 files and directories currently installed.)\n",
            "Preparing to unpack .../libportaudio2_19.6.0-1_amd64.deb ...\n",
            "Unpacking libportaudio2:amd64 (19.6.0-1) ...\n",
            "Selecting previously unselected package python-pyaudio.\n",
            "Preparing to unpack .../python-pyaudio_0.2.11-1build2_amd64.deb ...\n",
            "Unpacking python-pyaudio (0.2.11-1build2) ...\n",
            "Selecting previously unselected package python3-pyaudio.\n",
            "Preparing to unpack .../python3-pyaudio_0.2.11-1build2_amd64.deb ...\n",
            "Unpacking python3-pyaudio (0.2.11-1build2) ...\n",
            "Setting up libportaudio2:amd64 (19.6.0-1) ...\n",
            "Processing triggers for libc-bin (2.27-3ubuntu1) ...\n",
            "Setting up python-pyaudio (0.2.11-1build2) ...\n",
            "Setting up python3-pyaudio (0.2.11-1build2) ...\n"
          ],
          "name": "stdout"
        }
      ]
    },
    {
      "cell_type": "code",
      "metadata": {
        "id": "SjW7SwDhOHP4",
        "colab_type": "code",
        "colab": {
          "base_uri": "https://localhost:8080/",
          "height": 231
        },
        "outputId": "e50cfd72-08e3-48e2-9c8b-768e655e5f34"
      },
      "source": [
        "\n",
        "# Speech Input Using a Microphone and Translation of Speech to Text\n",
        "# \n",
        "# 1. Configure Microphone (For external microphones): It is advisable to specify the microphone \n",
        "# during the program to avoid any glitches.\n",
        "# Type lsusb in the terminal. A list of connected devices will show up. The microphone name would\n",
        "# look like this\n",
        "# USB Device 0x46d:0x825: Audio (hw:1, 0)\n",
        "# Make a note of this as it will be used in the program.\n",
        "# \n",
        "# 2. Set Chunk Size: This basically involved specifying how many bytes of data we want to read at\n",
        "# once. Typically, this value is specified in powers of 2 such as 1024 or 2048\n",
        "#\n",
        "# 3. Set Sampling Rate: Sampling rate defines how often values are recorded for processing\n",
        "#\n",
        "# 4. Set Device ID to the selected microphone: In this step, we specify the device ID of the\n",
        "# microphone that we wish to use in order to avoid ambiguity in case there are multiple\n",
        "# microphones. This also helps debug, in the sense that, while running the program, we will know\n",
        "# whether the specified microphone is being recognized. During the program, we specify a parameter\n",
        "# device_id. The program will say that device_id could not be found if the microphone is not\n",
        "# recognized.\n",
        "#\n",
        "# 5. Allow Adjusting for Ambient Noise: Since the surrounding noise varies, we must allow the\n",
        "# program a second or too to adjust the energy threshold of recording so it is adjusted according\n",
        "# to the external noise level.\n",
        "#\n",
        "# 6. Speech to text translation: This is done with the help of Google Speech Recognition. This\n",
        "# requires an active internet connection to work. However, there are certain offline Recognition\n",
        "# systems such as PocketSphinx, but have a very rigorous installation process that requires\n",
        "# several dependencies. Google Speech Recognition is one of the easiest to use.\n",
        "#\n",
        "# The Above steps have been implemented below:\n",
        "\n",
        "import speech_recognition as sr \n",
        "  \n",
        "#enter the name of usb microphone that you found \n",
        "#using lsusb \n",
        "#the following name is only used as an example \n",
        "mic_name = \"USB Device 0x46d:0x825: Audio (hw:1, 0)\"\n",
        "#Sample rate is how often values are recorded \n",
        "sample_rate = 48000\n",
        "#Chunk is like a buffer. It stores 2048 samples (bytes of data) \n",
        "#here.  \n",
        "#it is advisable to use powers of 2 such as 1024 or 2048 \n",
        "chunk_size = 2048\n",
        "#Initialize the recognizer \n",
        "r = sr.Recognizer() \n",
        "  \n",
        "#generate a list of all audio cards/microphones \n",
        "mic_list = sr.Microphone.list_microphone_names() \n",
        "  \n",
        "#the following loop aims to set the device ID of the mic that \n",
        "#we specifically want to use to avoid ambiguity. \n",
        "for i, microphone_name in enumerate(mic_list): \n",
        "  if microphone_name == mic_name:\n",
        "    device_id = i \n",
        "  \n",
        "#use the microphone as source for input. Here, we also specify  \n",
        "#which device ID to specifically look for incase the microphone  \n",
        "#is not working, an error will pop up saying \"device_id undefined\" \n",
        "with sr.Microphone(device_index = device_id, sample_rate = sample_rate,chunk_size = chunk_size) as source: \n",
        "    #wait for a second to let the recognizer adjust the  \n",
        "    #energy threshold based on the surrounding noise level \n",
        "    r.adjust_for_ambient_noise(source) \n",
        "    print (\"Say Something\")\n",
        "    #listens for the user's input \n",
        "    audio = r.listen(source) \n",
        "          \n",
        "    try: \n",
        "        text = r.recognize_google(audio) \n",
        "        print (\"you said: \" + text) \n",
        "      \n",
        "    #error occurs when google could not understand what was said \n",
        "      \n",
        "    except sr.UnknownValueError: \n",
        "        print(\"Google Speech Recognition could not understand audio\") \n",
        "      \n",
        "    except sr.RequestError as e: \n",
        "        print(\"Could not request results from Google Speech Recognition service; {0}\".format(e)) \n",
        "\n"
      ],
      "execution_count": 24,
      "outputs": [
        {
          "output_type": "error",
          "ename": "NameError",
          "evalue": "ignored",
          "traceback": [
            "\u001b[0;31m---------------------------------------------------------------------------\u001b[0m",
            "\u001b[0;31mNameError\u001b[0m                                 Traceback (most recent call last)",
            "\u001b[0;32m<ipython-input-24-7ab1ac4e2478>\u001b[0m in \u001b[0;36m<module>\u001b[0;34m()\u001b[0m\n\u001b[1;32m     27\u001b[0m \u001b[0;31m#which device ID to specifically look for incase the microphone\u001b[0m\u001b[0;34m\u001b[0m\u001b[0;34m\u001b[0m\u001b[0;34m\u001b[0m\u001b[0m\n\u001b[1;32m     28\u001b[0m \u001b[0;31m#is not working, an error will pop up saying \"device_id undefined\"\u001b[0m\u001b[0;34m\u001b[0m\u001b[0;34m\u001b[0m\u001b[0;34m\u001b[0m\u001b[0m\n\u001b[0;32m---> 29\u001b[0;31m \u001b[0;32mwith\u001b[0m \u001b[0msr\u001b[0m\u001b[0;34m.\u001b[0m\u001b[0mMicrophone\u001b[0m\u001b[0;34m(\u001b[0m\u001b[0mdevice_index\u001b[0m \u001b[0;34m=\u001b[0m \u001b[0mdevice_id\u001b[0m\u001b[0;34m,\u001b[0m \u001b[0msample_rate\u001b[0m \u001b[0;34m=\u001b[0m \u001b[0msample_rate\u001b[0m\u001b[0;34m,\u001b[0m\u001b[0mchunk_size\u001b[0m \u001b[0;34m=\u001b[0m \u001b[0mchunk_size\u001b[0m\u001b[0;34m)\u001b[0m \u001b[0;32mas\u001b[0m \u001b[0msource\u001b[0m\u001b[0;34m:\u001b[0m\u001b[0;34m\u001b[0m\u001b[0;34m\u001b[0m\u001b[0m\n\u001b[0m\u001b[1;32m     30\u001b[0m     \u001b[0;31m#wait for a second to let the recognizer adjust the\u001b[0m\u001b[0;34m\u001b[0m\u001b[0;34m\u001b[0m\u001b[0;34m\u001b[0m\u001b[0m\n\u001b[1;32m     31\u001b[0m     \u001b[0;31m#energy threshold based on the surrounding noise level\u001b[0m\u001b[0;34m\u001b[0m\u001b[0;34m\u001b[0m\u001b[0;34m\u001b[0m\u001b[0m\n",
            "\u001b[0;31mNameError\u001b[0m: name 'device_id' is not defined"
          ]
        }
      ]
    },
    {
      "cell_type": "markdown",
      "metadata": {
        "id": "ldMF1zFWxm86",
        "colab_type": "text"
      },
      "source": [
        "Verificar link:\n",
        "https://stackoverflow.com/questions/55701631/how-can-we-use-microphone-in-google-colab\n"
      ]
    }
  ]
}