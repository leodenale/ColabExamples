{
  "nbformat": 4,
  "nbformat_minor": 0,
  "metadata": {
    "colab": {
      "name": "SpeechRecognitionAPI-AudioFile2Text.ipynb",
      "version": "0.3.2",
      "provenance": [],
      "include_colab_link": true
    },
    "kernelspec": {
      "name": "python3",
      "display_name": "Python 3"
    },
    "accelerator": "TPU"
  },
  "cells": [
    {
      "cell_type": "markdown",
      "metadata": {
        "id": "view-in-github",
        "colab_type": "text"
      },
      "source": [
        "<a href=\"https://colab.research.google.com/github/leodenale/ColabExamples/blob/master/SpeechRecognitionAPI_AudioFile2Text.ipynb\" target=\"_parent\"><img src=\"https://colab.research.google.com/assets/colab-badge.svg\" alt=\"Open In Colab\"/></a>"
      ]
    },
    {
      "cell_type": "markdown",
      "metadata": {
        "id": "ReDuIXuEpdwX",
        "colab_type": "text"
      },
      "source": [
        "# Speech Recognition in Python using Google Speech API\n",
        "## (WAV file to text test)\n",
        "\n",
        "[Original article from Geeksforgeeks.org](https://www.geeksforgeeks.org/speech-recognition-in-python-using-google-speech-api/)\n",
        "\n",
        "Speech Recognition is an important feature in several applications used such as home automation, artificial intelligence, etc. This article aims to provide an introduction on how to make use of the SpeechRecognition library of Python. This is useful as it can be used on microcontrollers such as Raspberri Pis with the help of an external microphone.\n",
        "\n",
        "## Required Installations\n",
        "\n",
        "The following must be installed:\n",
        "\n",
        "1) **Python Speech Recognition module**:\n",
        " ```\n",
        " sudo pip install SpeechRecognition \n",
        "```\n",
        "\n",
        "2) **PyAudio**: Use the following command for linux users\n",
        "```\n",
        "sudo apt-get install python-pyaudio python3-pyaudio\n",
        "```\n",
        "\n",
        "If the versions in the repositories are too old, install pyaudio using the following command\n",
        "```\n",
        "sudo apt-get install portaudio19-dev python-all-dev python3-all-dev && \n",
        "sudo pip install pyaudio\n",
        "```\n",
        "Use pip3 instead of pip for python3.\n",
        "Windows users can install pyaudio by executing the following command in a terminal\n",
        "```\n",
        "pip install pyaudio\n",
        "```\n",
        "\n",
        "## Speech Input Using a Microphone and Translation of Speech to Text\n",
        "\n",
        "1) **Configure Microphone (For external microphones)**: It is advisable to specify the microphone during the program to avoid any glitches.\n",
        "Type **lsusb** in the terminal. A list of connected devices will show up. The microphone name would look like this\n",
        "```\n",
        "USB Device 0x46d:0x825: Audio (hw:1, 0)\n",
        "```\n",
        "Make a note of this as it will be used in the program.\n",
        "\n",
        "2) **Set Chunk Size**: This basically involved specifying how many bytes of data we want to read at once. Typically, this value is specified in powers of 2 such as 1024 or 2048\n",
        "\n",
        "3) **Set Sampling Rate**: Sampling rate defines how often values are recorded for processing\n",
        "\n",
        "4) **Set Device ID to the selected microphone**: In this step, we specify the device ID of the microphone that we wish to use in order to avoid ambiguity in case there are multiple microphones. This also helps debug, in the sense that, while running the program, we will know whether the specified microphone is being recognized. During the program, we specify a parameter device_id. The program will say that device_id could not be found if the microphone is not recognized.\n",
        "\n",
        "5) **Allow Adjusting for Ambient Noise**: Since the surrounding noise varies, we must allow the program a second or too to adjust the energy threshold of recording so it is adjusted according to the external noise level.\n",
        "\n",
        "6) **Speech to text translation**: This is done with the help of Google Speech Recognition. This requires an active internet connection to work. However, there are certain offline Recognition systems such as PocketSphinx, but have a very rigorous installation process that requires several dependencies. Google Speech Recognition is one of the easiest to use.\n",
        "\n",
        "The Above steps have been implemented below:"
      ]
    },
    {
      "cell_type": "code",
      "metadata": {
        "id": "D-AcVXDCpu-n",
        "colab_type": "code",
        "colab": {
          "base_uri": "https://localhost:8080/",
          "height": 33
        },
        "outputId": "2c2c14f7-f14b-4df7-fc5d-8d8bf2883a5e"
      },
      "source": [
        "!pip3 install SpeechRecognition"
      ],
      "execution_count": 1,
      "outputs": [
        {
          "output_type": "stream",
          "text": [
            "Requirement already satisfied: SpeechRecognition in /usr/local/lib/python3.6/dist-packages (3.8.1)\n"
          ],
          "name": "stdout"
        }
      ]
    },
    {
      "cell_type": "code",
      "metadata": {
        "id": "r2MNy60tpvyN",
        "colab_type": "code",
        "colab": {
          "base_uri": "https://localhost:8080/",
          "height": 166
        },
        "outputId": "36ff008b-1dd1-47dd-c2ea-2cb3e951f5db"
      },
      "source": [
        "!apt install python-pyaudio python3-pyaudio"
      ],
      "execution_count": 2,
      "outputs": [
        {
          "output_type": "stream",
          "text": [
            "Reading package lists... Done\n",
            "Building dependency tree       \n",
            "Reading state information... Done\n",
            "python-pyaudio is already the newest version (0.2.11-1build2).\n",
            "python3-pyaudio is already the newest version (0.2.11-1build2).\n",
            "The following package was automatically installed and is no longer required:\n",
            "  libnvidia-common-410\n",
            "Use 'apt autoremove' to remove it.\n",
            "0 upgraded, 0 newly installed, 0 to remove and 16 not upgraded.\n"
          ],
          "name": "stdout"
        }
      ]
    },
    {
      "cell_type": "code",
      "metadata": {
        "id": "3CDBmOgZv_LB",
        "colab_type": "code",
        "colab": {}
      },
      "source": [
        "# Mounting Google Drive in Google Colab\n",
        "from google.colab import drive\n",
        "drive.mount('/mydrive')"
      ],
      "execution_count": 0,
      "outputs": []
    },
    {
      "cell_type": "code",
      "metadata": {
        "id": "ev56pLEUwFEy",
        "colab_type": "code",
        "colab": {
          "base_uri": "https://localhost:8080/",
          "height": 33
        },
        "outputId": "28d6c532-d6fc-427a-f4f7-70e0e02b65db"
      },
      "source": [
        "# Navigating to project directory\n",
        "cd .."
      ],
      "execution_count": 4,
      "outputs": [
        {
          "output_type": "stream",
          "text": [
            "/\n"
          ],
          "name": "stdout"
        }
      ]
    },
    {
      "cell_type": "code",
      "metadata": {
        "id": "Ewrex2N-weOi",
        "colab_type": "code",
        "colab": {
          "base_uri": "https://localhost:8080/",
          "height": 83
        },
        "outputId": "5bb9164c-c303-49a2-82a6-10f91fdfebee"
      },
      "source": [
        "ls"
      ],
      "execution_count": 5,
      "outputs": [
        {
          "output_type": "stream",
          "text": [
            "\u001b[0m\u001b[01;34mbin\u001b[0m/      \u001b[01;34mdev\u001b[0m/   \u001b[01;34mlib32\u001b[0m/  \u001b[01;34mmydrive\u001b[0m/  \u001b[01;34mrun\u001b[0m/    \u001b[01;34msys\u001b[0m/                 \u001b[01;34musr\u001b[0m/\n",
            "\u001b[01;34mboot\u001b[0m/     \u001b[01;34metc\u001b[0m/   \u001b[01;34mlib64\u001b[0m/  \u001b[01;34mopt\u001b[0m/      \u001b[01;34msbin\u001b[0m/   \u001b[01;34mtensorflow-2.0.0b1\u001b[0m/  \u001b[01;34mvar\u001b[0m/\n",
            "\u001b[01;34mcontent\u001b[0m/  \u001b[01;34mhome\u001b[0m/  \u001b[01;34mmedia\u001b[0m/  \u001b[01;34mproc\u001b[0m/     \u001b[01;34msrv\u001b[0m/    \u001b[30;42mtmp\u001b[0m/\n",
            "\u001b[01;34mdatalab\u001b[0m/  \u001b[01;34mlib\u001b[0m/   \u001b[01;34mmnt\u001b[0m/    \u001b[01;34mroot\u001b[0m/     \u001b[01;34mswift\u001b[0m/  \u001b[01;34mtools\u001b[0m/\n"
          ],
          "name": "stdout"
        }
      ]
    },
    {
      "cell_type": "code",
      "metadata": {
        "id": "X3CteGuSwgwD",
        "colab_type": "code",
        "colab": {
          "base_uri": "https://localhost:8080/",
          "height": 33
        },
        "outputId": "96db679e-745c-43a8-cb2f-7946702ab453"
      },
      "source": [
        "cd mydrive/My Drive/Colab Notebooks/data"
      ],
      "execution_count": 6,
      "outputs": [
        {
          "output_type": "stream",
          "text": [
            "/mydrive/My Drive/Colab Notebooks/data\n"
          ],
          "name": "stdout"
        }
      ]
    },
    {
      "cell_type": "code",
      "metadata": {
        "id": "Sn_8G7ONwjHr",
        "colab_type": "code",
        "colab": {
          "base_uri": "https://localhost:8080/",
          "height": 33
        },
        "outputId": "9c67f8c2-30a5-49ab-fb64-a6e181b75742"
      },
      "source": [
        "ls"
      ],
      "execution_count": 7,
      "outputs": [
        {
          "output_type": "stream",
          "text": [
            "speech1.wav  speech2.wav\n"
          ],
          "name": "stdout"
        }
      ]
    },
    {
      "cell_type": "code",
      "metadata": {
        "id": "YZMC4lWgNzy_",
        "colab_type": "code",
        "colab": {
          "base_uri": "https://localhost:8080/",
          "height": 53
        },
        "outputId": "d86c5cee-f420-41c9-d967-e3d5510f1ecd"
      },
      "source": [
        "# \n",
        "# Transcribe an Audio file to text\n",
        "# \n",
        "# If we have an audio file that we want to translate to text, we simply have to replace the \n",
        "# source with the audio file instead of a microphone.\n",
        "# Place the audio file and the program in the same folder for convenience. This works for WAV, \n",
        "# AIFF, of FLAC files.\n",
        "# An implementation has been shown below\n",
        "# \n",
        "# \n",
        "#Python 2.x program to transcribe an Audio file \n",
        "import speech_recognition as sr \n",
        "  \n",
        "AUDIO_FILE = (\"speech2.wav\") \n",
        "  \n",
        "# use the audio file as the audio source \n",
        "  \n",
        "r = sr.Recognizer() \n",
        "  \n",
        "with sr.AudioFile(AUDIO_FILE) as source: \n",
        "    #reads the audio file. Here we use record instead of \n",
        "    #listen \n",
        "    audio = r.record(source)   \n",
        "  \n",
        "try: \n",
        "    print(\"The audio file contains: \" + r.recognize_google(audio)) \n",
        "  \n",
        "except sr.UnknownValueError: \n",
        "    print(\"Google Speech Recognition could not understand audio\") \n",
        "  \n",
        "except sr.RequestError as e: \n",
        "    print(\"Could not request results from Google Speech Recognition service; {0}\".format(e)) \n",
        "\n"
      ],
      "execution_count": 8,
      "outputs": [
        {
          "output_type": "stream",
          "text": [
            "The audio file contains: the Birch canoe slid on the smooth planks glue the seat to the dark blue background it is easy to tell the depth of a well these days a chicken leg is a verb dish rice is often served in round Bowls the juice of lemons makes fine punch the box was the one beside the pump truck the Hogs are such hot corn and garbage 4 hours of study works\n"
          ],
          "name": "stdout"
        }
      ]
    }
  ]
}